{
 "cells": [
  {
   "cell_type": "code",
   "execution_count": 18,
   "id": "b6768dac",
   "metadata": {},
   "outputs": [],
   "source": [
    "from secret_key import openapi_key\n",
    "import os\n",
    "os.environ['OPENAI_API_KEY'] = openapi_key"
   ]
  },
  {
   "cell_type": "code",
   "execution_count": 26,
   "id": "9c6fa4d1",
   "metadata": {},
   "outputs": [
    {
     "name": "stdout",
     "output_type": "stream",
     "text": [
      "?\n",
      "\n",
      "1. ETH Zurich, Switzerland\n",
      "2. Technical University of Munich, Germany\n"
     ]
    }
   ],
   "source": [
    "from langchain.llms import OpenAI\n",
    "# from langchain_openai import OpenAI\n",
    "llm = OpenAI(temperature=0.7)\n",
    "name = llm.predict(\"I want to search for a PhD. position in Europe, which two universities do you recoment for a data science graduate\")\n",
    "print(name)"
   ]
  },
  {
   "cell_type": "code",
   "execution_count": 28,
   "id": "c85551df",
   "metadata": {},
   "outputs": [
    {
     "data": {
      "text/plain": [
       "'I want to search for a PhD. position in Europe, give me the best university for a Data Science graduate'"
      ]
     },
     "execution_count": 28,
     "metadata": {},
     "output_type": "execute_result"
    }
   ],
   "source": [
    "from langchain.prompts import PromptTemplate\n",
    "prompt_template_name = PromptTemplate(\n",
    "    input_variables = ['course'],\n",
    "    template = \"I want to search for a PhD. position in Europe, give me the best university for a {course} graduate\"\n",
    ")\n",
    "prompt_template_name.format(course=\"Data Science\")"
   ]
  },
  {
   "cell_type": "code",
   "execution_count": 30,
   "id": "a4ac3936",
   "metadata": {},
   "outputs": [
    {
     "data": {
      "text/plain": [
       "'\\n\\nThere are many top universities in Europe that offer PhD programs in Data Science. Some of the best universities in Europe for a Data Science graduate are:\\n\\n1. ETH Zurich - Swiss Federal Institute of Technology in Zurich, Switzerland\\n2. Technical University of Munich, Germany\\n3. University of Oxford, United Kingdom\\n4. Technical University of Berlin, Germany\\n5. University of Amsterdam, Netherlands\\n6. University of Cambridge, United Kingdom\\n7. KTH Royal Institute of Technology, Sweden\\n8. University of Edinburgh, United Kingdom\\n9. University of Helsinki, Finland\\n10. Delft University of Technology, Netherlands.'"
      ]
     },
     "execution_count": 30,
     "metadata": {},
     "output_type": "execute_result"
    }
   ],
   "source": [
    "from langchain.chains import LLMChain\n",
    "chain = LLMChain(llm=llm, prompt=prompt_template_name)\n",
    "chain.run('Data science')"
   ]
  },
  {
   "cell_type": "code",
   "execution_count": 31,
   "id": "9fc28a76",
   "metadata": {},
   "outputs": [],
   "source": [
    "llm = OpenAI(temperature=0.6)\n",
    "prompt_template_course = PromptTemplate(\n",
    "    input_variables = ['course'],\n",
    "    template = \"I want to search for a PhD. position in Europe, recommend a country for a {course} graduate\"\n",
    ")\n",
    "course_chain = LLMChain(llm=llm, prompt=prompt_template_course)\n",
    "\n",
    "\n",
    "prompt_template_items = PromptTemplate(\n",
    "    input_variables = ['university_name'],\n",
    "    template = \"suggest two {university_name}. return as a list\"\n",
    ")\n",
    "university_item_chain = LLMChain(llm=llm, prompt=prompt_template_items)"
   ]
  },
  {
   "cell_type": "code",
   "execution_count": null,
   "id": "e4cdf15d",
   "metadata": {},
   "outputs": [],
   "source": [
    "# Simple Sequential Chains"
   ]
  },
  {
   "cell_type": "code",
   "execution_count": 34,
   "id": "b5be32ed",
   "metadata": {},
   "outputs": [
    {
     "name": "stdout",
     "output_type": "stream",
     "text": [
      "\n",
      "\n",
      "1. Technical University of Munich\n",
      "2. RWTH Aachen University\n",
      "3. Technical University of Berlin\n",
      "4. University of Freiburg\n",
      "5. University of Stuttgart\n",
      "6. Karlsruhe Institute of Technology\n",
      "7. Technical University of Darmstadt\n",
      "8. University of Bonn\n",
      "9. Humboldt University of Berlin\n",
      "10. University of Erlangen-Nuremberg\n"
     ]
    }
   ],
   "source": [
    "from langchain.chains import SimpleSequentialChain\n",
    "chain = SimpleSequentialChain(chains=[course_chain,university_item_chain])\n",
    "response = chain.run('Data Science')\n",
    "print(response)"
   ]
  },
  {
   "cell_type": "code",
   "execution_count": 35,
   "id": "78adeba7",
   "metadata": {},
   "outputs": [],
   "source": [
    "# Sequential Chain"
   ]
  },
  {
   "cell_type": "code",
   "execution_count": 47,
   "id": "f2842189",
   "metadata": {},
   "outputs": [],
   "source": [
    "llm = OpenAI(temperature=0.7)\n",
    "prompt_template_country = PromptTemplate(\n",
    "    input_variables = ['course'],\n",
    "    template =  \"I want to search for a PhD. position in Europe, recommend a country for a {course} graduate\"\n",
    ")\n",
    "country_chain = LLMChain(llm=llm, prompt=prompt_template_country, output_key='country_name')"
   ]
  },
  {
   "cell_type": "code",
   "execution_count": 48,
   "id": "718b6ad0",
   "metadata": {},
   "outputs": [],
   "source": [
    "llm = OpenAI(temperature=0.7)\n",
    "prompt_template_items = PromptTemplate(\n",
    "    input_variables = ['country_name'],\n",
    "    template = \"suggest three universities from {country_name} in a form of a list\"\n",
    ")\n",
    "university_item_chain = LLMChain(llm=llm, prompt=prompt_template_items, output_key=\"university_names\" )"
   ]
  },
  {
   "cell_type": "code",
   "execution_count": 49,
   "id": "adb0556e",
   "metadata": {},
   "outputs": [
    {
     "data": {
      "text/plain": [
       "{'course': 'Data Science',\n",
       " 'country_name': '\\n\\nGermany would be a great country for a Data Science graduate looking for a PhD position. Germany is known for its strong research and academic institutions, and has a thriving tech and data science industry. Some top universities in Germany for data science research include Technical University of Munich, University of Bonn, and Technical University of Berlin. Additionally, Germany offers a high quality of life and a welcoming environment for international students.',\n",
       " 'university_names': '\\n\\n1. Technical University of Munich\\n2. University of Bonn\\n3. Technical University of Berlin'}"
      ]
     },
     "execution_count": 49,
     "metadata": {},
     "output_type": "execute_result"
    }
   ],
   "source": [
    "from langchain.chains import SequentialChain\n",
    "chain = SequentialChain(\n",
    "    chains = [country_chain,university_item_chain],\n",
    "    input_variables = ['course'],\n",
    "    output_variables = ['country_name','university_names']\n",
    "    )\n",
    "chain({'course': 'Data Science'})"
   ]
  },
  {
   "cell_type": "code",
   "execution_count": null,
   "id": "8bc5af92",
   "metadata": {},
   "outputs": [],
   "source": []
  }
 ],
 "metadata": {
  "kernelspec": {
   "display_name": "Python 3 (ipykernel)",
   "language": "python",
   "name": "python3"
  },
  "language_info": {
   "codemirror_mode": {
    "name": "ipython",
    "version": 3
   },
   "file_extension": ".py",
   "mimetype": "text/x-python",
   "name": "python",
   "nbconvert_exporter": "python",
   "pygments_lexer": "ipython3",
   "version": "3.10.9"
  }
 },
 "nbformat": 4,
 "nbformat_minor": 5
}
